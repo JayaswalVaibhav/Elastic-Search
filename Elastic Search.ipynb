{
 "cells": [
  {
   "cell_type": "code",
   "execution_count": 2,
   "id": "910640da",
   "metadata": {},
   "outputs": [
    {
     "name": "stdout",
     "output_type": "stream",
     "text": [
      "Collecting elasticsearch\n",
      "  Downloading elasticsearch-7.15.2-py2.py3-none-any.whl (379 kB)\n",
      "     |████████████████████████████████| 379 kB 921 kB/s            \n",
      "\u001b[?25hRequirement already satisfied: certifi in /opt/conda/lib/python3.9/site-packages (from elasticsearch) (2021.10.8)\n",
      "Requirement already satisfied: urllib3<2,>=1.21.1 in /opt/conda/lib/python3.9/site-packages (from elasticsearch) (1.26.7)\n",
      "Installing collected packages: elasticsearch\n",
      "Successfully installed elasticsearch-7.15.2\n"
     ]
    }
   ],
   "source": [
    "##### install elasticsearch\n",
    "# !pip install elasticsearch"
   ]
  },
  {
   "cell_type": "code",
   "execution_count": 3,
   "id": "7ff266d3",
   "metadata": {},
   "outputs": [],
   "source": [
    "import os\n",
    "import sys\n",
    "import elasticsearch\n",
    "import pandas as pd\n",
    "from elasticsearch import Elasticsearch"
   ]
  },
  {
   "cell_type": "markdown",
   "id": "1d955de9",
   "metadata": {},
   "source": [
    "## Connect the elastic search"
   ]
  },
  {
   "cell_type": "code",
   "execution_count": 14,
   "id": "b273dbaa",
   "metadata": {},
   "outputs": [],
   "source": [
    "# here localhost will not work\n",
    "# because elastic search is running as a docker container and jupyter is also running as a docker container\n",
    "# instead of localhost --> use IP of your machine\n",
    "es = Elasticsearch([{'host': '192.168.0.103', 'port': 9200}])"
   ]
  },
  {
   "cell_type": "code",
   "execution_count": 15,
   "id": "da10063a",
   "metadata": {},
   "outputs": [
    {
     "name": "stderr",
     "output_type": "stream",
     "text": [
      "/opt/conda/lib/python3.9/site-packages/elasticsearch/connection/base.py:209: ElasticsearchWarning: Elasticsearch built-in security features are not enabled. Without authentication, your cluster could be accessible to anyone. See https://www.elastic.co/guide/en/elasticsearch/reference/7.15/security-minimal-setup.html to enable security.\n",
      "  warnings.warn(message, category=ElasticsearchWarning)\n"
     ]
    },
    {
     "data": {
      "text/plain": [
       "True"
      ]
     },
     "execution_count": 15,
     "metadata": {},
     "output_type": "execute_result"
    }
   ],
   "source": [
    "# check whether we are connected to elastic search or not\n",
    "es.ping()"
   ]
  },
  {
   "cell_type": "markdown",
   "id": "0c285ad7",
   "metadata": {},
   "source": [
    "## Create Index"
   ]
  },
  {
   "cell_type": "code",
   "execution_count": 20,
   "id": "4490bcf7",
   "metadata": {},
   "outputs": [
    {
     "data": {
      "text/plain": [
       "{'acknowledged': True, 'shards_acknowledged': True, 'index': 'my-foo'}"
      ]
     },
     "execution_count": 20,
     "metadata": {},
     "output_type": "execute_result"
    }
   ],
   "source": [
    "# create index equivalent to database in RDBMS\n",
    "es.indices.create(index='my-foo', ignore=400)"
   ]
  },
  {
   "cell_type": "code",
   "execution_count": 22,
   "id": "8e1e2e88",
   "metadata": {},
   "outputs": [
    {
     "name": "stdout",
     "output_type": "stream",
     "text": [
      "my-foo\n",
      ".kibana-event-log-7.15.2-000001\n",
      ".tasks\n",
      ".apm-agent-configuration\n",
      ".apm-custom-link\n",
      ".kibana_7.15.2_001\n",
      ".kibana_task_manager_7.15.2_001\n"
     ]
    },
    {
     "name": "stderr",
     "output_type": "stream",
     "text": [
      "/tmp/ipykernel_31/2941917093.py:2: DeprecationWarning: Using positional arguments for APIs is deprecated and will be disabled in 8.0.0. Instead use only keyword arguments for all APIs. See https://github.com/elastic/elasticsearch-py/issues/1698 for more information\n",
      "  res = es.indices.get_alias(\"*\")\n",
      "/opt/conda/lib/python3.9/site-packages/elasticsearch/connection/base.py:209: ElasticsearchWarning: this request accesses system indices: [.tasks, .apm-agent-configuration, .apm-custom-link, .kibana_7.15.2_001, .kibana_task_manager_7.15.2_001], but in a future major version, direct access to system indices will be prevented by default\n",
      "  warnings.warn(message, category=ElasticsearchWarning)\n"
     ]
    }
   ],
   "source": [
    "# get all the indices\n",
    "res = es.indices.get_alias(\"*\")\n",
    "for name in res:\n",
    "    print(name)"
   ]
  },
  {
   "cell_type": "markdown",
   "id": "e6c9d11b",
   "metadata": {},
   "source": [
    "## Delete Index"
   ]
  },
  {
   "cell_type": "code",
   "execution_count": 23,
   "id": "b77a438e",
   "metadata": {},
   "outputs": [
    {
     "data": {
      "text/plain": [
       "{'acknowledged': True}"
      ]
     },
     "execution_count": 23,
     "metadata": {},
     "output_type": "execute_result"
    }
   ],
   "source": [
    "es.indices.delete(index='my-foo', ignore=[400,404])"
   ]
  },
  {
   "cell_type": "markdown",
   "id": "0b74d241",
   "metadata": {},
   "source": [
    "## Upload JSON doc\n",
    "### This is just for learning purpose. This is not how it will be done in real scenarios"
   ]
  },
  {
   "cell_type": "code",
   "execution_count": 24,
   "id": "60b8dfbf",
   "metadata": {},
   "outputs": [],
   "source": [
    "e1 = {\n",
    "    \"first_name\": \"Vaibhav\",\n",
    "    \"last_name\": \"Jayaswal\",\n",
    "    \"Age\": 24,\n",
    "    \"Work\": \"Software Developer\"\n",
    "}\n",
    "\n",
    "e2 = {\n",
    "    \"first_name\": \"Saurabh\",\n",
    "    \"last_name\": \"Jayaswal\",\n",
    "    \"Age\": 19,\n",
    "    \"Work\": \"Student\"\n",
    "}"
   ]
  },
  {
   "cell_type": "code",
   "execution_count": 25,
   "id": "3874350d",
   "metadata": {},
   "outputs": [
    {
     "data": {
      "text/plain": [
       "{'acknowledged': True, 'shards_acknowledged': True, 'index': 'typeperson'}"
      ]
     },
     "execution_count": 25,
     "metadata": {},
     "output_type": "execute_result"
    }
   ],
   "source": [
    "# create a index first\n",
    "es.indices.create(index='typeperson', ignore=400)"
   ]
  },
  {
   "cell_type": "code",
   "execution_count": 26,
   "id": "12cee136",
   "metadata": {},
   "outputs": [
    {
     "name": "stderr",
     "output_type": "stream",
     "text": [
      "/tmp/ipykernel_31/3502844827.py:1: DeprecationWarning: The 'body' parameter is deprecated for the 'index' API and will be removed in a future version. Instead use the 'document' parameter. See https://github.com/elastic/elasticsearch-py/issues/1698 for more information\n",
      "  res1 = es.index(index='typeperson', doc_type='testpeople', body=e1, id=1)\n",
      "/opt/conda/lib/python3.9/site-packages/elasticsearch/connection/base.py:209: ElasticsearchWarning: [types removal] Specifying types in document index requests is deprecated, use the typeless endpoints instead (/{index}/_doc/{id}, /{index}/_doc, or /{index}/_create/{id}).\n",
      "  warnings.warn(message, category=ElasticsearchWarning)\n"
     ]
    }
   ],
   "source": [
    "res1 = es.index(index='typeperson', doc_type='testpeople', body=e1, id=1)"
   ]
  },
  {
   "cell_type": "code",
   "execution_count": 27,
   "id": "709751f3",
   "metadata": {},
   "outputs": [
    {
     "data": {
      "text/plain": [
       "{'_index': 'typeperson',\n",
       " '_type': 'testpeople',\n",
       " '_id': '1',\n",
       " '_version': 1,\n",
       " 'result': 'created',\n",
       " '_shards': {'total': 2, 'successful': 1, 'failed': 0},\n",
       " '_seq_no': 0,\n",
       " '_primary_term': 1}"
      ]
     },
     "execution_count": 27,
     "metadata": {},
     "output_type": "execute_result"
    }
   ],
   "source": [
    "res1"
   ]
  },
  {
   "cell_type": "code",
   "execution_count": 28,
   "id": "9b3a7185",
   "metadata": {},
   "outputs": [
    {
     "name": "stderr",
     "output_type": "stream",
     "text": [
      "/tmp/ipykernel_31/2831508785.py:1: DeprecationWarning: The 'body' parameter is deprecated for the 'index' API and will be removed in a future version. Instead use the 'document' parameter. See https://github.com/elastic/elasticsearch-py/issues/1698 for more information\n",
      "  res2 = es.index(index='typeperson', doc_type='testpeople', body=e2, id=2)\n"
     ]
    }
   ],
   "source": [
    "res2 = es.index(index='typeperson', doc_type='testpeople', body=e2, id=2)"
   ]
  },
  {
   "cell_type": "markdown",
   "id": "546468c5",
   "metadata": {},
   "source": [
    "# How to ingest data in actual scenarios"
   ]
  },
  {
   "cell_type": "code",
   "execution_count": 60,
   "id": "0b9b64d5",
   "metadata": {},
   "outputs": [],
   "source": [
    "import numpy as np\n",
    "import datetime\n",
    "from elasticsearch import helpers\n",
    "from tqdm import tqdm\n",
    "from ast import literal_eval"
   ]
  },
  {
   "cell_type": "code",
   "execution_count": 32,
   "id": "0fdc19b1",
   "metadata": {},
   "outputs": [
    {
     "data": {
      "text/plain": [
       "['netflix_titles.csv', '.ipynb_checkpoints', 'Elastic Search.ipynb']"
      ]
     },
     "execution_count": 32,
     "metadata": {},
     "output_type": "execute_result"
    }
   ],
   "source": [
    "os.listdir()"
   ]
  },
  {
   "cell_type": "code",
   "execution_count": 33,
   "id": "843d0159",
   "metadata": {},
   "outputs": [],
   "source": [
    "df = pd.read_csv('netflix_titles.csv')"
   ]
  },
  {
   "cell_type": "code",
   "execution_count": 41,
   "id": "cfbafef8",
   "metadata": {},
   "outputs": [
    {
     "data": {
      "text/html": [
       "<div>\n",
       "<style scoped>\n",
       "    .dataframe tbody tr th:only-of-type {\n",
       "        vertical-align: middle;\n",
       "    }\n",
       "\n",
       "    .dataframe tbody tr th {\n",
       "        vertical-align: top;\n",
       "    }\n",
       "\n",
       "    .dataframe thead th {\n",
       "        text-align: right;\n",
       "    }\n",
       "</style>\n",
       "<table border=\"1\" class=\"dataframe\">\n",
       "  <thead>\n",
       "    <tr style=\"text-align: right;\">\n",
       "      <th></th>\n",
       "      <th>show_id</th>\n",
       "      <th>type</th>\n",
       "      <th>title</th>\n",
       "      <th>director</th>\n",
       "      <th>cast</th>\n",
       "      <th>country</th>\n",
       "      <th>date_added</th>\n",
       "      <th>release_year</th>\n",
       "      <th>rating</th>\n",
       "      <th>duration</th>\n",
       "      <th>listed_in</th>\n",
       "      <th>description</th>\n",
       "    </tr>\n",
       "  </thead>\n",
       "  <tbody>\n",
       "    <tr>\n",
       "      <th>0</th>\n",
       "      <td>s1</td>\n",
       "      <td>Movie</td>\n",
       "      <td>Dick Johnson Is Dead</td>\n",
       "      <td>Kirsten Johnson</td>\n",
       "      <td>NaN</td>\n",
       "      <td>United States</td>\n",
       "      <td>September 25, 2021</td>\n",
       "      <td>2020</td>\n",
       "      <td>PG-13</td>\n",
       "      <td>90 min</td>\n",
       "      <td>Documentaries</td>\n",
       "      <td>As her father nears the end of his life, filmm...</td>\n",
       "    </tr>\n",
       "    <tr>\n",
       "      <th>1</th>\n",
       "      <td>s2</td>\n",
       "      <td>TV Show</td>\n",
       "      <td>Blood &amp; Water</td>\n",
       "      <td>NaN</td>\n",
       "      <td>Ama Qamata, Khosi Ngema, Gail Mabalane, Thaban...</td>\n",
       "      <td>South Africa</td>\n",
       "      <td>September 24, 2021</td>\n",
       "      <td>2021</td>\n",
       "      <td>TV-MA</td>\n",
       "      <td>2 Seasons</td>\n",
       "      <td>International TV Shows, TV Dramas, TV Mysteries</td>\n",
       "      <td>After crossing paths at a party, a Cape Town t...</td>\n",
       "    </tr>\n",
       "  </tbody>\n",
       "</table>\n",
       "</div>"
      ],
      "text/plain": [
       "  show_id     type                 title         director  \\\n",
       "0      s1    Movie  Dick Johnson Is Dead  Kirsten Johnson   \n",
       "1      s2  TV Show         Blood & Water              NaN   \n",
       "\n",
       "                                                cast        country  \\\n",
       "0                                                NaN  United States   \n",
       "1  Ama Qamata, Khosi Ngema, Gail Mabalane, Thaban...   South Africa   \n",
       "\n",
       "           date_added  release_year rating   duration  \\\n",
       "0  September 25, 2021          2020  PG-13     90 min   \n",
       "1  September 24, 2021          2021  TV-MA  2 Seasons   \n",
       "\n",
       "                                         listed_in  \\\n",
       "0                                    Documentaries   \n",
       "1  International TV Shows, TV Dramas, TV Mysteries   \n",
       "\n",
       "                                         description  \n",
       "0  As her father nears the end of his life, filmm...  \n",
       "1  After crossing paths at a party, a Cape Town t...  "
      ]
     },
     "execution_count": 41,
     "metadata": {},
     "output_type": "execute_result"
    }
   ],
   "source": [
    "df.head(2)"
   ]
  },
  {
   "cell_type": "code",
   "execution_count": 35,
   "id": "eeb700d8",
   "metadata": {},
   "outputs": [
    {
     "data": {
      "text/plain": [
       "Index(['show_id', 'type', 'title', 'director', 'cast', 'country', 'date_added',\n",
       "       'release_year', 'rating', 'duration', 'listed_in', 'description'],\n",
       "      dtype='object')"
      ]
     },
     "execution_count": 35,
     "metadata": {},
     "output_type": "execute_result"
    }
   ],
   "source": [
    "df.columns"
   ]
  },
  {
   "cell_type": "code",
   "execution_count": 38,
   "id": "3d82bb92",
   "metadata": {},
   "outputs": [
    {
     "data": {
      "text/plain": [
       "(8807, 12)"
      ]
     },
     "execution_count": 38,
     "metadata": {},
     "output_type": "execute_result"
    }
   ],
   "source": [
    "# use showid as id in index because it is unique\n",
    "df.shape"
   ]
  },
  {
   "cell_type": "code",
   "execution_count": 39,
   "id": "f6472496",
   "metadata": {},
   "outputs": [
    {
     "data": {
      "text/plain": [
       "8807"
      ]
     },
     "execution_count": 39,
     "metadata": {},
     "output_type": "execute_result"
    }
   ],
   "source": [
    "df[\"show_id\"].nunique()"
   ]
  },
  {
   "cell_type": "markdown",
   "id": "b6e902bb",
   "metadata": {},
   "source": [
    "## clean the data"
   ]
  },
  {
   "cell_type": "code",
   "execution_count": 42,
   "id": "bf1da6b2",
   "metadata": {},
   "outputs": [
    {
     "data": {
      "text/plain": [
       "show_id            0\n",
       "type               0\n",
       "title              0\n",
       "director        2634\n",
       "cast             825\n",
       "country          831\n",
       "date_added        10\n",
       "release_year       0\n",
       "rating             4\n",
       "duration           3\n",
       "listed_in          0\n",
       "description        0\n",
       "dtype: int64"
      ]
     },
     "execution_count": 42,
     "metadata": {},
     "output_type": "execute_result"
    }
   ],
   "source": [
    "df.isna().sum()"
   ]
  },
  {
   "cell_type": "code",
   "execution_count": 43,
   "id": "13f5860e",
   "metadata": {},
   "outputs": [],
   "source": [
    "df = df.dropna()"
   ]
  },
  {
   "cell_type": "code",
   "execution_count": 44,
   "id": "54e5f330",
   "metadata": {},
   "outputs": [
    {
     "data": {
      "text/plain": [
       "show_id         0\n",
       "type            0\n",
       "title           0\n",
       "director        0\n",
       "cast            0\n",
       "country         0\n",
       "date_added      0\n",
       "release_year    0\n",
       "rating          0\n",
       "duration        0\n",
       "listed_in       0\n",
       "description     0\n",
       "dtype: int64"
      ]
     },
     "execution_count": 44,
     "metadata": {},
     "output_type": "execute_result"
    }
   ],
   "source": [
    "df.isna().sum()"
   ]
  },
  {
   "cell_type": "code",
   "execution_count": 45,
   "id": "8390b82a",
   "metadata": {},
   "outputs": [
    {
     "data": {
      "text/plain": [
       "(5332, 12)"
      ]
     },
     "execution_count": 45,
     "metadata": {},
     "output_type": "execute_result"
    }
   ],
   "source": [
    "df.shape"
   ]
  },
  {
   "cell_type": "markdown",
   "id": "ddbc45f1",
   "metadata": {},
   "source": [
    "## convert data into appropriate format that ES (elasticsearch) understand "
   ]
  },
  {
   "cell_type": "code",
   "execution_count": 46,
   "id": "4eb6dce6",
   "metadata": {},
   "outputs": [],
   "source": [
    "# convert df to dict - orient will be 'records' - e.g. {'col1': 1, 'col2': 0.5}, {'col1': 2, 'col2': 0.75}]\n",
    "df2 = df.to_dict('records')"
   ]
  },
  {
   "cell_type": "code",
   "execution_count": 48,
   "id": "e11a3f51",
   "metadata": {},
   "outputs": [
    {
     "data": {
      "text/plain": [
       "{'show_id': 's8',\n",
       " 'type': 'Movie',\n",
       " 'title': 'Sankofa',\n",
       " 'director': 'Haile Gerima',\n",
       " 'cast': 'Kofi Ghanaba, Oyafunmike Ogunlano, Alexandra Duah, Nick Medley, Mutabaruka, Afemo Omilami, Reggie Carter, Mzuri',\n",
       " 'country': 'United States, Ghana, Burkina Faso, United Kingdom, Germany, Ethiopia',\n",
       " 'date_added': 'September 24, 2021',\n",
       " 'release_year': 1993,\n",
       " 'rating': 'TV-MA',\n",
       " 'duration': '125 min',\n",
       " 'listed_in': 'Dramas, Independent Movies, International Movies',\n",
       " 'description': 'On a photo shoot in Ghana, an American model slips back in time, becomes enslaved on a plantation and bears witness to the agony of her ancestral past.'}"
      ]
     },
     "execution_count": 48,
     "metadata": {},
     "output_type": "execute_result"
    }
   ],
   "source": [
    "df2[0]"
   ]
  },
  {
   "cell_type": "markdown",
   "id": "b0037eda",
   "metadata": {},
   "source": [
    "## Settings and Mapping"
   ]
  },
  {
   "cell_type": "code",
   "execution_count": 96,
   "id": "4095a824",
   "metadata": {},
   "outputs": [],
   "source": [
    "Settings = {\n",
    "    \"settings\":{\n",
    "        \"number_of_shards\": 1,\n",
    "        \"number_of_replicas\": 0\n",
    "    },\n",
    "    \"mappings\":{\n",
    "        \"properties\":{\n",
    "            \"director\":{\n",
    "                \"type\": \"text\"\n",
    "            },\n",
    "            \"duration\":{\n",
    "                \"type\": \"text\"\n",
    "            }\n",
    "        }\n",
    "    }\n",
    "}"
   ]
  },
  {
   "cell_type": "code",
   "execution_count": 97,
   "id": "31e2ddac",
   "metadata": {},
   "outputs": [
    {
     "name": "stderr",
     "output_type": "stream",
     "text": [
      "/tmp/ipykernel_31/1827619291.py:2: DeprecationWarning: The 'body' parameter is deprecated for the 'create' API and will be removed in a future version. Instead use API parameters directly. See https://github.com/elastic/elasticsearch-py/issues/1698 for more information\n",
      "  my_ind_settings = es.indices.create(index=\"netflix_ml\", ignore=[400,404], body=Settings)\n"
     ]
    }
   ],
   "source": [
    "#add settings\n",
    "my_ind_settings = es.indices.create(index=\"netflix_ml\", ignore=[400,404], body=Settings) "
   ]
  },
  {
   "cell_type": "code",
   "execution_count": 98,
   "id": "4980ce24",
   "metadata": {},
   "outputs": [
    {
     "data": {
      "text/plain": [
       "{'acknowledged': True, 'shards_acknowledged': True, 'index': 'netflix_ml'}"
      ]
     },
     "execution_count": 98,
     "metadata": {},
     "output_type": "execute_result"
    }
   ],
   "source": [
    "my_ind_settings"
   ]
  },
  {
   "cell_type": "markdown",
   "id": "a828bf40",
   "metadata": {},
   "source": [
    "## convert the data into ELK format"
   ]
  },
  {
   "cell_type": "code",
   "execution_count": 99,
   "id": "2ac52812",
   "metadata": {},
   "outputs": [],
   "source": [
    "# create generator\n",
    "def generator(df2):\n",
    "    for c, line in enumerate(df2):\n",
    "        yield{\n",
    "            '_index': 'netflix_ml',\n",
    "            '_type': '_doc',\n",
    "            '_id': line.get(\"show_id\", None),\n",
    "            '_source': {\n",
    "                \"title\": line.get(\"title\", \"\"),\n",
    "                \"director\": line.get(\"director\", \"\"),\n",
    "                \"description\": line.get(\"description\", \"\"),\n",
    "                \"duration\": line.get(\"duration\", None),\n",
    "                \"cast\": line.get(\"cast\", None)\n",
    "            }\n",
    "        }\n",
    "    raise StopIteration"
   ]
  },
  {
   "cell_type": "code",
   "execution_count": 100,
   "id": "23237f60",
   "metadata": {},
   "outputs": [],
   "source": [
    "mycustom = generator(df2)"
   ]
  },
  {
   "cell_type": "code",
   "execution_count": 101,
   "id": "1f9b2cb4",
   "metadata": {},
   "outputs": [
    {
     "data": {
      "text/plain": [
       "<generator object generator at 0xffff66aea890>"
      ]
     },
     "execution_count": 101,
     "metadata": {},
     "output_type": "execute_result"
    }
   ],
   "source": [
    "mycustom"
   ]
  },
  {
   "cell_type": "markdown",
   "id": "c66b34e3",
   "metadata": {},
   "source": [
    "## Upload data into Elastic Search"
   ]
  },
  {
   "cell_type": "code",
   "execution_count": 102,
   "id": "1c575fae",
   "metadata": {},
   "outputs": [],
   "source": [
    "# whenever we upload a doc, we know a director is string but ES does not know that, therefore we use mapping\n",
    "\n",
    "# when we do bulk insert, it will automatically create the mapping\n"
   ]
  },
  {
   "cell_type": "code",
   "execution_count": 103,
   "id": "f154db6f",
   "metadata": {},
   "outputs": [],
   "source": [
    "try:\n",
    "    res = helpers.bulk(es, generator(df2))\n",
    "    print(\"Working\")\n",
    "except Exception as error:\n",
    "    pass\n",
    "\n",
    "# GET netflix_ml/_mapping   --> bulk load will add mapping by default which can be seen by the given command in ES \n",
    "# dev tools"
   ]
  },
  {
   "cell_type": "code",
   "execution_count": 68,
   "id": "21769505",
   "metadata": {},
   "outputs": [
    {
     "data": {
      "text/plain": [
       "<Elasticsearch([{'host': '192.168.0.103', 'port': 9200}])>"
      ]
     },
     "execution_count": 68,
     "metadata": {},
     "output_type": "execute_result"
    }
   ],
   "source": []
  },
  {
   "cell_type": "code",
   "execution_count": null,
   "id": "24b218e8",
   "metadata": {},
   "outputs": [],
   "source": []
  }
 ],
 "metadata": {
  "kernelspec": {
   "display_name": "Python 3 (ipykernel)",
   "language": "python",
   "name": "python3"
  },
  "language_info": {
   "codemirror_mode": {
    "name": "ipython",
    "version": 3
   },
   "file_extension": ".py",
   "mimetype": "text/x-python",
   "name": "python",
   "nbconvert_exporter": "python",
   "pygments_lexer": "ipython3",
   "version": "3.9.7"
  }
 },
 "nbformat": 4,
 "nbformat_minor": 5
}
